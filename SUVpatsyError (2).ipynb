{
  "cells": [
    {
      "cell_type": "markdown",
      "metadata": {
        "id": "eWvfFDUb-qId"
      },
      "source": [
        "**Installing and Importing the Required Libraries**"
      ]
    },
    {
      "cell_type": "code",
      "execution_count": 1,
      "metadata": {
        "colab": {
          "base_uri": "https://localhost:8080/",
          "height": 0
        },
        "id": "aFQohdsgsIRF",
        "outputId": "3f751208-4047-4259-dd34-4b86f5ff4bb6"
      },
      "outputs": [
        {
          "output_type": "stream",
          "name": "stdout",
          "text": [
            "Collecting pyblp\n",
            "  Downloading pyblp-1.1.0-py3-none-any.whl (2.0 MB)\n",
            "\u001b[2K     \u001b[90m━━━━━━━━━━━━━━━━━━━━━━━━━━━━━━━━━━━━━━━━\u001b[0m \u001b[32m2.0/2.0 MB\u001b[0m \u001b[31m8.2 MB/s\u001b[0m eta \u001b[36m0:00:00\u001b[0m\n",
            "\u001b[?25hRequirement already satisfied: numpy>=1.17.0 in /usr/local/lib/python3.10/dist-packages (from pyblp) (1.25.2)\n",
            "Requirement already satisfied: patsy>=0.5.1 in /usr/local/lib/python3.10/dist-packages (from pyblp) (0.5.6)\n",
            "Collecting pyhdfe>=0.1.0 (from pyblp)\n",
            "  Downloading pyhdfe-0.2.0-py3-none-any.whl (19 kB)\n",
            "Requirement already satisfied: scipy>=1.2.0 in /usr/local/lib/python3.10/dist-packages (from pyblp) (1.11.4)\n",
            "Requirement already satisfied: sympy>=1.1.0 in /usr/local/lib/python3.10/dist-packages (from pyblp) (1.12.1)\n",
            "Requirement already satisfied: six in /usr/local/lib/python3.10/dist-packages (from patsy>=0.5.1->pyblp) (1.16.0)\n",
            "Requirement already satisfied: mpmath<1.4.0,>=1.1.0 in /usr/local/lib/python3.10/dist-packages (from sympy>=1.1.0->pyblp) (1.3.0)\n",
            "Installing collected packages: pyhdfe, pyblp\n",
            "Successfully installed pyblp-1.1.0 pyhdfe-0.2.0\n"
          ]
        }
      ],
      "source": [
        "# Installing Libraries\n",
        "%pip install pyblp\n"
      ]
    },
    {
      "cell_type": "code",
      "execution_count": 2,
      "metadata": {
        "id": "roXYge9o9PbV"
      },
      "outputs": [],
      "source": [
        "# Importing libraries\n",
        "import pandas as pd\n",
        "import numpy as np\n",
        "import matplotlib.pyplot as plt\n",
        "import pyblp\n",
        "import seaborn as sns\n",
        "\n",
        "from google.colab import files\n"
      ]
    },
    {
      "cell_type": "markdown",
      "metadata": {
        "id": "rWDxISQU-82v"
      },
      "source": [
        "**Loading and Preprocessing the Data**"
      ]
    },
    {
      "cell_type": "code",
      "execution_count": 3,
      "metadata": {
        "colab": {
          "base_uri": "https://localhost:8080/",
          "height": 73
        },
        "id": "ww6fIDjO9jBf",
        "outputId": "edc022e3-7203-4632-f1dd-68f3c86adf01"
      },
      "outputs": [
        {
          "output_type": "display_data",
          "data": {
            "text/plain": [
              "<IPython.core.display.HTML object>"
            ],
            "text/html": [
              "\n",
              "     <input type=\"file\" id=\"files-5565da62-970a-4f4a-9539-bbbad9fe8df4\" name=\"files[]\" multiple disabled\n",
              "        style=\"border:none\" />\n",
              "     <output id=\"result-5565da62-970a-4f4a-9539-bbbad9fe8df4\">\n",
              "      Upload widget is only available when the cell has been executed in the\n",
              "      current browser session. Please rerun this cell to enable.\n",
              "      </output>\n",
              "      <script>// Copyright 2017 Google LLC\n",
              "//\n",
              "// Licensed under the Apache License, Version 2.0 (the \"License\");\n",
              "// you may not use this file except in compliance with the License.\n",
              "// You may obtain a copy of the License at\n",
              "//\n",
              "//      http://www.apache.org/licenses/LICENSE-2.0\n",
              "//\n",
              "// Unless required by applicable law or agreed to in writing, software\n",
              "// distributed under the License is distributed on an \"AS IS\" BASIS,\n",
              "// WITHOUT WARRANTIES OR CONDITIONS OF ANY KIND, either express or implied.\n",
              "// See the License for the specific language governing permissions and\n",
              "// limitations under the License.\n",
              "\n",
              "/**\n",
              " * @fileoverview Helpers for google.colab Python module.\n",
              " */\n",
              "(function(scope) {\n",
              "function span(text, styleAttributes = {}) {\n",
              "  const element = document.createElement('span');\n",
              "  element.textContent = text;\n",
              "  for (const key of Object.keys(styleAttributes)) {\n",
              "    element.style[key] = styleAttributes[key];\n",
              "  }\n",
              "  return element;\n",
              "}\n",
              "\n",
              "// Max number of bytes which will be uploaded at a time.\n",
              "const MAX_PAYLOAD_SIZE = 100 * 1024;\n",
              "\n",
              "function _uploadFiles(inputId, outputId) {\n",
              "  const steps = uploadFilesStep(inputId, outputId);\n",
              "  const outputElement = document.getElementById(outputId);\n",
              "  // Cache steps on the outputElement to make it available for the next call\n",
              "  // to uploadFilesContinue from Python.\n",
              "  outputElement.steps = steps;\n",
              "\n",
              "  return _uploadFilesContinue(outputId);\n",
              "}\n",
              "\n",
              "// This is roughly an async generator (not supported in the browser yet),\n",
              "// where there are multiple asynchronous steps and the Python side is going\n",
              "// to poll for completion of each step.\n",
              "// This uses a Promise to block the python side on completion of each step,\n",
              "// then passes the result of the previous step as the input to the next step.\n",
              "function _uploadFilesContinue(outputId) {\n",
              "  const outputElement = document.getElementById(outputId);\n",
              "  const steps = outputElement.steps;\n",
              "\n",
              "  const next = steps.next(outputElement.lastPromiseValue);\n",
              "  return Promise.resolve(next.value.promise).then((value) => {\n",
              "    // Cache the last promise value to make it available to the next\n",
              "    // step of the generator.\n",
              "    outputElement.lastPromiseValue = value;\n",
              "    return next.value.response;\n",
              "  });\n",
              "}\n",
              "\n",
              "/**\n",
              " * Generator function which is called between each async step of the upload\n",
              " * process.\n",
              " * @param {string} inputId Element ID of the input file picker element.\n",
              " * @param {string} outputId Element ID of the output display.\n",
              " * @return {!Iterable<!Object>} Iterable of next steps.\n",
              " */\n",
              "function* uploadFilesStep(inputId, outputId) {\n",
              "  const inputElement = document.getElementById(inputId);\n",
              "  inputElement.disabled = false;\n",
              "\n",
              "  const outputElement = document.getElementById(outputId);\n",
              "  outputElement.innerHTML = '';\n",
              "\n",
              "  const pickedPromise = new Promise((resolve) => {\n",
              "    inputElement.addEventListener('change', (e) => {\n",
              "      resolve(e.target.files);\n",
              "    });\n",
              "  });\n",
              "\n",
              "  const cancel = document.createElement('button');\n",
              "  inputElement.parentElement.appendChild(cancel);\n",
              "  cancel.textContent = 'Cancel upload';\n",
              "  const cancelPromise = new Promise((resolve) => {\n",
              "    cancel.onclick = () => {\n",
              "      resolve(null);\n",
              "    };\n",
              "  });\n",
              "\n",
              "  // Wait for the user to pick the files.\n",
              "  const files = yield {\n",
              "    promise: Promise.race([pickedPromise, cancelPromise]),\n",
              "    response: {\n",
              "      action: 'starting',\n",
              "    }\n",
              "  };\n",
              "\n",
              "  cancel.remove();\n",
              "\n",
              "  // Disable the input element since further picks are not allowed.\n",
              "  inputElement.disabled = true;\n",
              "\n",
              "  if (!files) {\n",
              "    return {\n",
              "      response: {\n",
              "        action: 'complete',\n",
              "      }\n",
              "    };\n",
              "  }\n",
              "\n",
              "  for (const file of files) {\n",
              "    const li = document.createElement('li');\n",
              "    li.append(span(file.name, {fontWeight: 'bold'}));\n",
              "    li.append(span(\n",
              "        `(${file.type || 'n/a'}) - ${file.size} bytes, ` +\n",
              "        `last modified: ${\n",
              "            file.lastModifiedDate ? file.lastModifiedDate.toLocaleDateString() :\n",
              "                                    'n/a'} - `));\n",
              "    const percent = span('0% done');\n",
              "    li.appendChild(percent);\n",
              "\n",
              "    outputElement.appendChild(li);\n",
              "\n",
              "    const fileDataPromise = new Promise((resolve) => {\n",
              "      const reader = new FileReader();\n",
              "      reader.onload = (e) => {\n",
              "        resolve(e.target.result);\n",
              "      };\n",
              "      reader.readAsArrayBuffer(file);\n",
              "    });\n",
              "    // Wait for the data to be ready.\n",
              "    let fileData = yield {\n",
              "      promise: fileDataPromise,\n",
              "      response: {\n",
              "        action: 'continue',\n",
              "      }\n",
              "    };\n",
              "\n",
              "    // Use a chunked sending to avoid message size limits. See b/62115660.\n",
              "    let position = 0;\n",
              "    do {\n",
              "      const length = Math.min(fileData.byteLength - position, MAX_PAYLOAD_SIZE);\n",
              "      const chunk = new Uint8Array(fileData, position, length);\n",
              "      position += length;\n",
              "\n",
              "      const base64 = btoa(String.fromCharCode.apply(null, chunk));\n",
              "      yield {\n",
              "        response: {\n",
              "          action: 'append',\n",
              "          file: file.name,\n",
              "          data: base64,\n",
              "        },\n",
              "      };\n",
              "\n",
              "      let percentDone = fileData.byteLength === 0 ?\n",
              "          100 :\n",
              "          Math.round((position / fileData.byteLength) * 100);\n",
              "      percent.textContent = `${percentDone}% done`;\n",
              "\n",
              "    } while (position < fileData.byteLength);\n",
              "  }\n",
              "\n",
              "  // All done.\n",
              "  yield {\n",
              "    response: {\n",
              "      action: 'complete',\n",
              "    }\n",
              "  };\n",
              "}\n",
              "\n",
              "scope.google = scope.google || {};\n",
              "scope.google.colab = scope.google.colab || {};\n",
              "scope.google.colab._files = {\n",
              "  _uploadFiles,\n",
              "  _uploadFilesContinue,\n",
              "};\n",
              "})(self);\n",
              "</script> "
            ]
          },
          "metadata": {}
        },
        {
          "output_type": "stream",
          "name": "stdout",
          "text": [
            "Saving suvBook1.csv to suvBook1.csv\n"
          ]
        }
      ],
      "source": [
        "# Upload data\n",
        "uploaded = files.upload()\n"
      ]
    },
    {
      "cell_type": "code",
      "execution_count": 6,
      "metadata": {
        "colab": {
          "base_uri": "https://localhost:8080/",
          "height": 276
        },
        "id": "GQRcZWEB_kJR",
        "outputId": "09d661ae-df85-4417-8c94-06866c16b011"
      },
      "outputs": [
        {
          "output_type": "execute_result",
          "data": {
            "text/plain": [
              "                 model  msrp_usd horsepower  fuel_economy_combined  \\\n",
              "0               BMW X7     82895      375HP                     22   \n",
              "1               BMW XM    159995      644HP                     14   \n",
              "2    Cadillac Escalade     83890      420HP                     16   \n",
              "3        Infiniti QX80     76145      400HP                     16   \n",
              "4  Jeep Grand Wagoneer     93945      510HP                     17   \n",
              "\n",
              "                  engine_type        transmission drivetrain  \\\n",
              "0                Turbocharged   8-speed automatic        AWD   \n",
              "1  Twin-Turbocharged (hybrid)   8-speed automatic        AWD   \n",
              "2                Supercharged  10-speed automatic        RWD   \n",
              "3                 Turbocarged   7-speed automatic        RWD   \n",
              "4           Twin-Turbocharged   8-speed automatic        4WD   \n",
              "\n",
              "  dimensionsIn_L_W_H_ inch)  seating_capacity  sales_q1_2024 market_share  \\\n",
              "0           203.6/78.7/72.2                 7           6956        2.48%   \n",
              "1           201.2/78.9/69.1                 5            541        0.19%   \n",
              "2           211.9/81.1/76.7                 7           9135        3.25%   \n",
              "3           210.2/79.9/75.8                 7           2472        0.88%   \n",
              "4           214.7/83.6/75.6                 7           3550        1.26%   \n",
              "\n",
              "  air_suspension panoramic_sunroof  \n",
              "0            yes               yes  \n",
              "1             no               yes  \n",
              "2            yes               yes  \n",
              "3            yes                no  \n",
              "4            yes               yes  "
            ],
            "text/html": [
              "\n",
              "  <div id=\"df-de168586-cb49-4924-8ab3-d51a2a5187ba\" class=\"colab-df-container\">\n",
              "    <div>\n",
              "<style scoped>\n",
              "    .dataframe tbody tr th:only-of-type {\n",
              "        vertical-align: middle;\n",
              "    }\n",
              "\n",
              "    .dataframe tbody tr th {\n",
              "        vertical-align: top;\n",
              "    }\n",
              "\n",
              "    .dataframe thead th {\n",
              "        text-align: right;\n",
              "    }\n",
              "</style>\n",
              "<table border=\"1\" class=\"dataframe\">\n",
              "  <thead>\n",
              "    <tr style=\"text-align: right;\">\n",
              "      <th></th>\n",
              "      <th>model</th>\n",
              "      <th>msrp_usd</th>\n",
              "      <th>horsepower</th>\n",
              "      <th>fuel_economy_combined</th>\n",
              "      <th>engine_type</th>\n",
              "      <th>transmission</th>\n",
              "      <th>drivetrain</th>\n",
              "      <th>dimensionsIn_L_W_H_ inch)</th>\n",
              "      <th>seating_capacity</th>\n",
              "      <th>sales_q1_2024</th>\n",
              "      <th>market_share</th>\n",
              "      <th>air_suspension</th>\n",
              "      <th>panoramic_sunroof</th>\n",
              "    </tr>\n",
              "  </thead>\n",
              "  <tbody>\n",
              "    <tr>\n",
              "      <th>0</th>\n",
              "      <td>BMW X7</td>\n",
              "      <td>82895</td>\n",
              "      <td>375HP</td>\n",
              "      <td>22</td>\n",
              "      <td>Turbocharged</td>\n",
              "      <td>8-speed automatic</td>\n",
              "      <td>AWD</td>\n",
              "      <td>203.6/78.7/72.2</td>\n",
              "      <td>7</td>\n",
              "      <td>6956</td>\n",
              "      <td>2.48%</td>\n",
              "      <td>yes</td>\n",
              "      <td>yes</td>\n",
              "    </tr>\n",
              "    <tr>\n",
              "      <th>1</th>\n",
              "      <td>BMW XM</td>\n",
              "      <td>159995</td>\n",
              "      <td>644HP</td>\n",
              "      <td>14</td>\n",
              "      <td>Twin-Turbocharged (hybrid)</td>\n",
              "      <td>8-speed automatic</td>\n",
              "      <td>AWD</td>\n",
              "      <td>201.2/78.9/69.1</td>\n",
              "      <td>5</td>\n",
              "      <td>541</td>\n",
              "      <td>0.19%</td>\n",
              "      <td>no</td>\n",
              "      <td>yes</td>\n",
              "    </tr>\n",
              "    <tr>\n",
              "      <th>2</th>\n",
              "      <td>Cadillac Escalade</td>\n",
              "      <td>83890</td>\n",
              "      <td>420HP</td>\n",
              "      <td>16</td>\n",
              "      <td>Supercharged</td>\n",
              "      <td>10-speed automatic</td>\n",
              "      <td>RWD</td>\n",
              "      <td>211.9/81.1/76.7</td>\n",
              "      <td>7</td>\n",
              "      <td>9135</td>\n",
              "      <td>3.25%</td>\n",
              "      <td>yes</td>\n",
              "      <td>yes</td>\n",
              "    </tr>\n",
              "    <tr>\n",
              "      <th>3</th>\n",
              "      <td>Infiniti QX80</td>\n",
              "      <td>76145</td>\n",
              "      <td>400HP</td>\n",
              "      <td>16</td>\n",
              "      <td>Turbocarged</td>\n",
              "      <td>7-speed automatic</td>\n",
              "      <td>RWD</td>\n",
              "      <td>210.2/79.9/75.8</td>\n",
              "      <td>7</td>\n",
              "      <td>2472</td>\n",
              "      <td>0.88%</td>\n",
              "      <td>yes</td>\n",
              "      <td>no</td>\n",
              "    </tr>\n",
              "    <tr>\n",
              "      <th>4</th>\n",
              "      <td>Jeep Grand Wagoneer</td>\n",
              "      <td>93945</td>\n",
              "      <td>510HP</td>\n",
              "      <td>17</td>\n",
              "      <td>Twin-Turbocharged</td>\n",
              "      <td>8-speed automatic</td>\n",
              "      <td>4WD</td>\n",
              "      <td>214.7/83.6/75.6</td>\n",
              "      <td>7</td>\n",
              "      <td>3550</td>\n",
              "      <td>1.26%</td>\n",
              "      <td>yes</td>\n",
              "      <td>yes</td>\n",
              "    </tr>\n",
              "  </tbody>\n",
              "</table>\n",
              "</div>\n",
              "    <div class=\"colab-df-buttons\">\n",
              "\n",
              "  <div class=\"colab-df-container\">\n",
              "    <button class=\"colab-df-convert\" onclick=\"convertToInteractive('df-de168586-cb49-4924-8ab3-d51a2a5187ba')\"\n",
              "            title=\"Convert this dataframe to an interactive table.\"\n",
              "            style=\"display:none;\">\n",
              "\n",
              "  <svg xmlns=\"http://www.w3.org/2000/svg\" height=\"24px\" viewBox=\"0 -960 960 960\">\n",
              "    <path d=\"M120-120v-720h720v720H120Zm60-500h600v-160H180v160Zm220 220h160v-160H400v160Zm0 220h160v-160H400v160ZM180-400h160v-160H180v160Zm440 0h160v-160H620v160ZM180-180h160v-160H180v160Zm440 0h160v-160H620v160Z\"/>\n",
              "  </svg>\n",
              "    </button>\n",
              "\n",
              "  <style>\n",
              "    .colab-df-container {\n",
              "      display:flex;\n",
              "      gap: 12px;\n",
              "    }\n",
              "\n",
              "    .colab-df-convert {\n",
              "      background-color: #E8F0FE;\n",
              "      border: none;\n",
              "      border-radius: 50%;\n",
              "      cursor: pointer;\n",
              "      display: none;\n",
              "      fill: #1967D2;\n",
              "      height: 32px;\n",
              "      padding: 0 0 0 0;\n",
              "      width: 32px;\n",
              "    }\n",
              "\n",
              "    .colab-df-convert:hover {\n",
              "      background-color: #E2EBFA;\n",
              "      box-shadow: 0px 1px 2px rgba(60, 64, 67, 0.3), 0px 1px 3px 1px rgba(60, 64, 67, 0.15);\n",
              "      fill: #174EA6;\n",
              "    }\n",
              "\n",
              "    .colab-df-buttons div {\n",
              "      margin-bottom: 4px;\n",
              "    }\n",
              "\n",
              "    [theme=dark] .colab-df-convert {\n",
              "      background-color: #3B4455;\n",
              "      fill: #D2E3FC;\n",
              "    }\n",
              "\n",
              "    [theme=dark] .colab-df-convert:hover {\n",
              "      background-color: #434B5C;\n",
              "      box-shadow: 0px 1px 3px 1px rgba(0, 0, 0, 0.15);\n",
              "      filter: drop-shadow(0px 1px 2px rgba(0, 0, 0, 0.3));\n",
              "      fill: #FFFFFF;\n",
              "    }\n",
              "  </style>\n",
              "\n",
              "    <script>\n",
              "      const buttonEl =\n",
              "        document.querySelector('#df-de168586-cb49-4924-8ab3-d51a2a5187ba button.colab-df-convert');\n",
              "      buttonEl.style.display =\n",
              "        google.colab.kernel.accessAllowed ? 'block' : 'none';\n",
              "\n",
              "      async function convertToInteractive(key) {\n",
              "        const element = document.querySelector('#df-de168586-cb49-4924-8ab3-d51a2a5187ba');\n",
              "        const dataTable =\n",
              "          await google.colab.kernel.invokeFunction('convertToInteractive',\n",
              "                                                    [key], {});\n",
              "        if (!dataTable) return;\n",
              "\n",
              "        const docLinkHtml = 'Like what you see? Visit the ' +\n",
              "          '<a target=\"_blank\" href=https://colab.research.google.com/notebooks/data_table.ipynb>data table notebook</a>'\n",
              "          + ' to learn more about interactive tables.';\n",
              "        element.innerHTML = '';\n",
              "        dataTable['output_type'] = 'display_data';\n",
              "        await google.colab.output.renderOutput(dataTable, element);\n",
              "        const docLink = document.createElement('div');\n",
              "        docLink.innerHTML = docLinkHtml;\n",
              "        element.appendChild(docLink);\n",
              "      }\n",
              "    </script>\n",
              "  </div>\n",
              "\n",
              "\n",
              "<div id=\"df-782c3f5e-f0a3-4624-9319-43a7247f1b52\">\n",
              "  <button class=\"colab-df-quickchart\" onclick=\"quickchart('df-782c3f5e-f0a3-4624-9319-43a7247f1b52')\"\n",
              "            title=\"Suggest charts\"\n",
              "            style=\"display:none;\">\n",
              "\n",
              "<svg xmlns=\"http://www.w3.org/2000/svg\" height=\"24px\"viewBox=\"0 0 24 24\"\n",
              "     width=\"24px\">\n",
              "    <g>\n",
              "        <path d=\"M19 3H5c-1.1 0-2 .9-2 2v14c0 1.1.9 2 2 2h14c1.1 0 2-.9 2-2V5c0-1.1-.9-2-2-2zM9 17H7v-7h2v7zm4 0h-2V7h2v10zm4 0h-2v-4h2v4z\"/>\n",
              "    </g>\n",
              "</svg>\n",
              "  </button>\n",
              "\n",
              "<style>\n",
              "  .colab-df-quickchart {\n",
              "      --bg-color: #E8F0FE;\n",
              "      --fill-color: #1967D2;\n",
              "      --hover-bg-color: #E2EBFA;\n",
              "      --hover-fill-color: #174EA6;\n",
              "      --disabled-fill-color: #AAA;\n",
              "      --disabled-bg-color: #DDD;\n",
              "  }\n",
              "\n",
              "  [theme=dark] .colab-df-quickchart {\n",
              "      --bg-color: #3B4455;\n",
              "      --fill-color: #D2E3FC;\n",
              "      --hover-bg-color: #434B5C;\n",
              "      --hover-fill-color: #FFFFFF;\n",
              "      --disabled-bg-color: #3B4455;\n",
              "      --disabled-fill-color: #666;\n",
              "  }\n",
              "\n",
              "  .colab-df-quickchart {\n",
              "    background-color: var(--bg-color);\n",
              "    border: none;\n",
              "    border-radius: 50%;\n",
              "    cursor: pointer;\n",
              "    display: none;\n",
              "    fill: var(--fill-color);\n",
              "    height: 32px;\n",
              "    padding: 0;\n",
              "    width: 32px;\n",
              "  }\n",
              "\n",
              "  .colab-df-quickchart:hover {\n",
              "    background-color: var(--hover-bg-color);\n",
              "    box-shadow: 0 1px 2px rgba(60, 64, 67, 0.3), 0 1px 3px 1px rgba(60, 64, 67, 0.15);\n",
              "    fill: var(--button-hover-fill-color);\n",
              "  }\n",
              "\n",
              "  .colab-df-quickchart-complete:disabled,\n",
              "  .colab-df-quickchart-complete:disabled:hover {\n",
              "    background-color: var(--disabled-bg-color);\n",
              "    fill: var(--disabled-fill-color);\n",
              "    box-shadow: none;\n",
              "  }\n",
              "\n",
              "  .colab-df-spinner {\n",
              "    border: 2px solid var(--fill-color);\n",
              "    border-color: transparent;\n",
              "    border-bottom-color: var(--fill-color);\n",
              "    animation:\n",
              "      spin 1s steps(1) infinite;\n",
              "  }\n",
              "\n",
              "  @keyframes spin {\n",
              "    0% {\n",
              "      border-color: transparent;\n",
              "      border-bottom-color: var(--fill-color);\n",
              "      border-left-color: var(--fill-color);\n",
              "    }\n",
              "    20% {\n",
              "      border-color: transparent;\n",
              "      border-left-color: var(--fill-color);\n",
              "      border-top-color: var(--fill-color);\n",
              "    }\n",
              "    30% {\n",
              "      border-color: transparent;\n",
              "      border-left-color: var(--fill-color);\n",
              "      border-top-color: var(--fill-color);\n",
              "      border-right-color: var(--fill-color);\n",
              "    }\n",
              "    40% {\n",
              "      border-color: transparent;\n",
              "      border-right-color: var(--fill-color);\n",
              "      border-top-color: var(--fill-color);\n",
              "    }\n",
              "    60% {\n",
              "      border-color: transparent;\n",
              "      border-right-color: var(--fill-color);\n",
              "    }\n",
              "    80% {\n",
              "      border-color: transparent;\n",
              "      border-right-color: var(--fill-color);\n",
              "      border-bottom-color: var(--fill-color);\n",
              "    }\n",
              "    90% {\n",
              "      border-color: transparent;\n",
              "      border-bottom-color: var(--fill-color);\n",
              "    }\n",
              "  }\n",
              "</style>\n",
              "\n",
              "  <script>\n",
              "    async function quickchart(key) {\n",
              "      const quickchartButtonEl =\n",
              "        document.querySelector('#' + key + ' button');\n",
              "      quickchartButtonEl.disabled = true;  // To prevent multiple clicks.\n",
              "      quickchartButtonEl.classList.add('colab-df-spinner');\n",
              "      try {\n",
              "        const charts = await google.colab.kernel.invokeFunction(\n",
              "            'suggestCharts', [key], {});\n",
              "      } catch (error) {\n",
              "        console.error('Error during call to suggestCharts:', error);\n",
              "      }\n",
              "      quickchartButtonEl.classList.remove('colab-df-spinner');\n",
              "      quickchartButtonEl.classList.add('colab-df-quickchart-complete');\n",
              "    }\n",
              "    (() => {\n",
              "      let quickchartButtonEl =\n",
              "        document.querySelector('#df-782c3f5e-f0a3-4624-9319-43a7247f1b52 button');\n",
              "      quickchartButtonEl.style.display =\n",
              "        google.colab.kernel.accessAllowed ? 'block' : 'none';\n",
              "    })();\n",
              "  </script>\n",
              "</div>\n",
              "\n",
              "    </div>\n",
              "  </div>\n"
            ],
            "application/vnd.google.colaboratory.intrinsic+json": {
              "type": "dataframe",
              "variable_name": "subset_data",
              "summary": "{\n  \"name\": \"subset_data\",\n  \"rows\": 49,\n  \"fields\": [\n    {\n      \"column\": \"model\",\n      \"properties\": {\n        \"dtype\": \"string\",\n        \"num_unique_values\": 49,\n        \"samples\": [\n          \"Audi Q8\",\n          \"Lincoln Corsair\",\n          \"Porsche Macan\"\n        ],\n        \"semantic_type\": \"\",\n        \"description\": \"\"\n      }\n    },\n    {\n      \"column\": \"msrp_usd\",\n      \"properties\": {\n        \"dtype\": \"number\",\n        \"std\": 24949,\n        \"min\": 38595,\n        \"max\": 159995,\n        \"num_unique_values\": 47,\n        \"samples\": [\n          52010,\n          50775,\n          54735\n        ],\n        \"semantic_type\": \"\",\n        \"description\": \"\"\n      }\n    },\n    {\n      \"column\": \"horsepower\",\n      \"properties\": {\n        \"dtype\": \"string\",\n        \"num_unique_values\": 33,\n        \"samples\": [\n          \"221HP\",\n          \"246HP\",\n          \"201HP\"\n        ],\n        \"semantic_type\": \"\",\n        \"description\": \"\"\n      }\n    },\n    {\n      \"column\": \"fuel_economy_combined\",\n      \"properties\": {\n        \"dtype\": \"number\",\n        \"std\": 3,\n        \"min\": 14,\n        \"max\": 29,\n        \"num_unique_values\": 14,\n        \"samples\": [\n          24,\n          26,\n          22\n        ],\n        \"semantic_type\": \"\",\n        \"description\": \"\"\n      }\n    },\n    {\n      \"column\": \"engine_type\",\n      \"properties\": {\n        \"dtype\": \"category\",\n        \"num_unique_values\": 7,\n        \"samples\": [\n          \"Turbocharged\",\n          \"Twin-Turbocharged (hybrid)\",\n          \"Turbocharged (hybrid)\"\n        ],\n        \"semantic_type\": \"\",\n        \"description\": \"\"\n      }\n    },\n    {\n      \"column\": \"transmission\",\n      \"properties\": {\n        \"dtype\": \"category\",\n        \"num_unique_values\": 8,\n        \"samples\": [\n          \"10-speed automatic\",\n          \"7-Auto-Shift Manual\",\n          \"8-speed automatic\"\n        ],\n        \"semantic_type\": \"\",\n        \"description\": \"\"\n      }\n    },\n    {\n      \"column\": \"drivetrain\",\n      \"properties\": {\n        \"dtype\": \"category\",\n        \"num_unique_values\": 4,\n        \"samples\": [\n          \"RWD\",\n          \"FWD\",\n          \"AWD\"\n        ],\n        \"semantic_type\": \"\",\n        \"description\": \"\"\n      }\n    },\n    {\n      \"column\": \"dimensionsIn_L_W_H_ inch)\",\n      \"properties\": {\n        \"dtype\": \"string\",\n        \"num_unique_values\": 49,\n        \"samples\": [\n          \"196.6/78.5/67.2\",\n          \"181.4/74.3/64.1\",\n          \"186.1/76.1/63.8\"\n        ],\n        \"semantic_type\": \"\",\n        \"description\": \"\"\n      }\n    },\n    {\n      \"column\": \"seating_capacity\",\n      \"properties\": {\n        \"dtype\": \"number\",\n        \"std\": 0,\n        \"min\": 5,\n        \"max\": 7,\n        \"num_unique_values\": 2,\n        \"samples\": [\n          5,\n          7\n        ],\n        \"semantic_type\": \"\",\n        \"description\": \"\"\n      }\n    },\n    {\n      \"column\": \"sales_q1_2024\",\n      \"properties\": {\n        \"dtype\": \"number\",\n        \"std\": 5309,\n        \"min\": 140,\n        \"max\": 26473,\n        \"num_unique_values\": 49,\n        \"samples\": [\n          1796,\n          6286\n        ],\n        \"semantic_type\": \"\",\n        \"description\": \"\"\n      }\n    },\n    {\n      \"column\": \"market_share\",\n      \"properties\": {\n        \"dtype\": \"string\",\n        \"num_unique_values\": 47,\n        \"samples\": [\n          \"2.22%\",\n          \"0.05%\"\n        ],\n        \"semantic_type\": \"\",\n        \"description\": \"\"\n      }\n    },\n    {\n      \"column\": \"air_suspension\",\n      \"properties\": {\n        \"dtype\": \"category\",\n        \"num_unique_values\": 2,\n        \"samples\": [\n          \"no\",\n          \"yes\"\n        ],\n        \"semantic_type\": \"\",\n        \"description\": \"\"\n      }\n    },\n    {\n      \"column\": \"panoramic_sunroof\",\n      \"properties\": {\n        \"dtype\": \"category\",\n        \"num_unique_values\": 2,\n        \"samples\": [\n          \"no\",\n          \"yes\"\n        ],\n        \"semantic_type\": \"\",\n        \"description\": \"\"\n      }\n    }\n  ]\n}"
            }
          },
          "metadata": {},
          "execution_count": 6
        }
      ],
      "source": [
        "# reading data\n",
        "data = pd.read_csv('suvBook1.csv')\n",
        "subset_data = data.copy()\n",
        "\"\"\"# Rename columns to remove spaces and special characters\n",
        "subset_data.columns = subset_data.columns.str.replace(' ', '_').str.replace('.', '').str.replace('(', '').str.replace(')', '')\"\"\"\n",
        "\n",
        "\n",
        "# Display the first few rows of the DataFrame\n",
        "data.head()\n",
        "subset_data.head()\n"
      ]
    },
    {
      "cell_type": "code",
      "execution_count": 24,
      "metadata": {
        "id": "tGadepqVcehv"
      },
      "outputs": [],
      "source": [
        "\"\"\"# Creating the AWD dummy variable: 1 if AWD or 4WD, 0 otherwise\n",
        "subset_data[\"awd_dummy\"] = np.where(subset_data[\"drivetrain\"].isin([\"AWD\", \"4WD\"]), 1, 0)\"\"\"\n",
        "\n",
        "# Creating the Air Suspension dummy variable: 1 if Yes, 0 if No\n",
        "subset_data[\"air_suspension_dummy\"] = np.where(subset_data[\"air_suspension\"] == \"yes\", 1, 0)\n",
        "\n",
        "# Creating the Panoramic Sunroof dummy variable: 1 if Yes, 0 if No\n",
        "subset_data[\"panoramic_sunroof_dummy\"] = np.where(subset_data[\"panoramic_sunroof\"] == \"yes\", 1, 0)\n",
        "\n"
      ]
    },
    {
      "cell_type": "code",
      "source": [
        "# Check for Missing Columns: Before creating product_data_blp, ensure all required columns are present.\n",
        "required_columns = [\"msrp_usd\", \"horsepower\", \"fuel_economy_combined\", \"air_suspension_dummy\", \"panoramic_sunroof_dummy\"] #\" \"awd_dummy\" removed to solve error\"\n",
        "missing_columns = [col for col in required_columns if col not in subset_data.columns]\n",
        "print(\"Missing columns:\", missing_columns)\n"
      ],
      "metadata": {
        "colab": {
          "base_uri": "https://localhost:8080/"
        },
        "id": "RphZBQlod1VU",
        "outputId": "db279ce3-e8f8-462d-8396-67c80f081c9f"
      },
      "execution_count": 25,
      "outputs": [
        {
          "output_type": "stream",
          "name": "stdout",
          "text": [
            "Missing columns: []\n"
          ]
        }
      ]
    },
    {
      "cell_type": "code",
      "source": [
        "# Prepare Data for BLP Model: Ensure that product_data_blp includes all required columns.\n",
        "product_data_blp = subset_data[required_columns]\n"
      ],
      "metadata": {
        "id": "5_ZoDt1wd8IO"
      },
      "execution_count": 26,
      "outputs": []
    },
    {
      "cell_type": "code",
      "source": [
        "product_data_blp = subset_data[[\"msrp_usd\", \"horsepower\", \"fuel_economy_combined\", \"air_suspension_dummy\", \"panoramic_sunroof_dummy\"]] # #\" \"awd_dummy\" removed to solve error\""
      ],
      "metadata": {
        "id": "kOIUQNoAeR_a"
      },
      "execution_count": 29,
      "outputs": []
    },
    {
      "cell_type": "code",
      "source": [
        "# Select a limited number of variables for the initial estimation\n",
        "variables = [\"msrp_usd\", \"horsepower\", \"fuel_economy_combined\", \"air_suspension_dummy\", \"panoramic_sunroof_dummy\"] # \"awd_dummy\"\n",
        "\n",
        "# Drop rows with missing values in the selected columns\n",
        "subset_data = subset_data.dropna(subset=variables + ['sales_q1_2024', 'market_share'])\n"
      ],
      "metadata": {
        "id": "iL60EDX6iFOz"
      },
      "execution_count": 30,
      "outputs": []
    },
    {
      "cell_type": "code",
      "source": [
        "# Define the product characteristics (X) and the instruments (Z)\n",
        "# Prepare the data for the BLP model\n",
        "product_data_blp = subset_data[[\"msrp_usd\", \"horsepower\", \"fuel_economy_combined\", \"air_suspension_dummy\", \"panoramic_sunroof_dummy\"]] # \"awd_dummy\" removed to solve error\n",
        "\n",
        "print(product_data_blp.dtypes)"
      ],
      "metadata": {
        "colab": {
          "base_uri": "https://localhost:8080/"
        },
        "id": "lDexUYq4rBUE",
        "outputId": "b0271761-710f-47b6-cb45-2cdc7de9ab9e"
      },
      "execution_count": 31,
      "outputs": [
        {
          "output_type": "stream",
          "name": "stdout",
          "text": [
            "msrp_usd                    int64\n",
            "horsepower                 object\n",
            "fuel_economy_combined       int64\n",
            "air_suspension_dummy        int64\n",
            "panoramic_sunroof_dummy     int64\n",
            "dtype: object\n"
          ]
        }
      ]
    },
    {
      "cell_type": "code",
      "source": [
        "print(product_data_blp.head())"
      ],
      "metadata": {
        "colab": {
          "base_uri": "https://localhost:8080/"
        },
        "id": "szhhQKrwrBO1",
        "outputId": "bf20a24c-3c40-4346-95be-970503b7ed86"
      },
      "execution_count": 32,
      "outputs": [
        {
          "output_type": "stream",
          "name": "stdout",
          "text": [
            "   msrp_usd horsepower  fuel_economy_combined  air_suspension_dummy  \\\n",
            "0     82895      375HP                     22                     1   \n",
            "1    159995      644HP                     14                     0   \n",
            "2     83890      420HP                     16                     1   \n",
            "3     76145      400HP                     16                     1   \n",
            "4     93945      510HP                     17                     1   \n",
            "\n",
            "   panoramic_sunroof_dummy  \n",
            "0                        1  \n",
            "1                        1  \n",
            "2                        1  \n",
            "3                        0  \n",
            "4                        1  \n"
          ]
        }
      ]
    },
    {
      "cell_type": "code",
      "source": [
        "# Market data\n",
        "market_data = {\n",
        "    \"product_ids\": data.index,\n",
        "    \"market_ids\": np.ones(subset_data.shape[0]),\n",
        "    \"shares\": subset_data[\"market_share\"]\n",
        "}"
      ],
      "metadata": {
        "id": "0fg_BDf-rBGO"
      },
      "execution_count": 33,
      "outputs": []
    },
    {
      "cell_type": "code",
      "source": [
        "# Combine the data into the format required by pyblp\n",
        "# X1: Linear Characteristics\n",
        "X1_formulation = pyblp.Formulation(\"1 + msrp_usd + horsepower + fuel_economy_combined + air_suspension_dummy + panoramic_sunroof_dummy\") # + awd_dummy removed to solve error\n",
        "\n",
        "# X2: Nonlinear Characteristics (using the same variables here for simplicity)\n",
        "X2_formulation = pyblp.Formulation(\"1 + horsepower + fuel_economy_combined + air_suspension_dummy + panoramic_sunroof_dummy\") # + awd_dummy removed to solve error\n",
        "# X3: Log Cost Characteristics\n",
        "X3_formulation = pyblp.Formulation(\"1 +log(horsepower) + log(fuel_economy_combined) + panoramic_sunroof_dummy\") # + awd_dummy removed to solve error\n"
      ],
      "metadata": {
        "id": "24GHN6m51Tmy"
      },
      "execution_count": 34,
      "outputs": []
    },
    {
      "cell_type": "code",
      "source": [
        "product_formulations = (X1_formulation, X2_formulation, X3_formulation)"
      ],
      "metadata": {
        "id": "eBsiiiuGGa9Q"
      },
      "execution_count": 35,
      "outputs": []
    },
    {
      "cell_type": "code",
      "source": [],
      "metadata": {
        "id": "iMHWw4MQGk0b"
      },
      "execution_count": 35,
      "outputs": []
    },
    {
      "cell_type": "code",
      "source": [
        "# Create the problem instance with integration method\n",
        "mc_integration = pyblp.Integration('monte_carlo', size=200, specification_options={'seed': 0})\n",
        "problem = pyblp.Problem(product_formulations, market_data, product_data_blp, integration=mc_integration)\n",
        "\n",
        "# Define initial values\n",
        "initial_sigma = np.diag([1.0, 1.0, 1.0, 1.0, 1.0, 1.0])\n",
        "initial_beta = np.array([1.0, -1.0, 1.0, 1.0, 1.0, 1.0])\n",
        "initial_gamma = np.array([1.0, 1.0, 1.0, 1.0, 1.0, 1.0])\n",
        "\n",
        "# Set up optimization routine\n",
        "tnc = pyblp.Optimization('tnc', {'maxfun': 500})\n",
        "\n",
        "# Solve the problem\n",
        "result = problem.solve(initial_sigma, initial_beta, initial_gamma, tnc)\n"
      ],
      "metadata": {
        "colab": {
          "base_uri": "https://localhost:8080/",
          "height": 460
        },
        "id": "bOGi-tu-_NUj",
        "outputId": "7e3e67b2-e807-4afc-e19e-a02146a77b9d"
      },
      "execution_count": 36,
      "outputs": [
        {
          "output_type": "stream",
          "name": "stdout",
          "text": [
            "Initializing the problem ...\n"
          ]
        },
        {
          "output_type": "error",
          "ename": "PatsyError",
          "evalue": "Failed to load data for 'msrp_usd' because of the above exception.\n    1 + msrp_usd + horsepower + fuel_economy_combined + air_suspension_dummy + panoramic_sunroof_dummy\n    ^^^^^^^^^^^^^^^^^^^^^^^^^^^^^^^^^^^^^^^^^^^^^^^^^^^^^^^^^^^^^^^^^^^^^^^^^^^^^^^^^^^^^^^^^^^^^^^^^^",
          "traceback": [
            "\u001b[0;31m---------------------------------------------------------------------------\u001b[0m",
            "\u001b[0;31mKeyError\u001b[0m                                  Traceback (most recent call last)",
            "\u001b[0;32m/usr/local/lib/python3.10/dist-packages/pyblp/configurations/formulation.py\u001b[0m in \u001b[0;36m_build_matrix\u001b[0;34m(self, data, fallback_index, ignore_na)\u001b[0m\n\u001b[1;32m    179\u001b[0m             \u001b[0;32mtry\u001b[0m\u001b[0;34m:\u001b[0m\u001b[0;34m\u001b[0m\u001b[0;34m\u001b[0m\u001b[0m\n\u001b[0;32m--> 180\u001b[0;31m                 \u001b[0mdata_mapping\u001b[0m\u001b[0;34m[\u001b[0m\u001b[0mname\u001b[0m\u001b[0;34m]\u001b[0m \u001b[0;34m=\u001b[0m \u001b[0mnp\u001b[0m\u001b[0;34m.\u001b[0m\u001b[0masarray\u001b[0m\u001b[0;34m(\u001b[0m\u001b[0mdata\u001b[0m\u001b[0;34m[\u001b[0m\u001b[0mname\u001b[0m\u001b[0;34m]\u001b[0m\u001b[0;34m)\u001b[0m\u001b[0;34m.\u001b[0m\u001b[0mflatten\u001b[0m\u001b[0;34m(\u001b[0m\u001b[0;34m)\u001b[0m\u001b[0;34m\u001b[0m\u001b[0;34m\u001b[0m\u001b[0m\n\u001b[0m\u001b[1;32m    181\u001b[0m             \u001b[0;32mexcept\u001b[0m \u001b[0mException\u001b[0m \u001b[0;32mas\u001b[0m \u001b[0mexception\u001b[0m\u001b[0;34m:\u001b[0m\u001b[0;34m\u001b[0m\u001b[0;34m\u001b[0m\u001b[0m\n",
            "\u001b[0;31mKeyError\u001b[0m: 'msrp_usd'",
            "\nThe above exception was the direct cause of the following exception:\n",
            "\u001b[0;31mPatsyError\u001b[0m                                Traceback (most recent call last)",
            "\u001b[0;32m<ipython-input-36-33e7f8d5fe62>\u001b[0m in \u001b[0;36m<cell line: 3>\u001b[0;34m()\u001b[0m\n\u001b[1;32m      1\u001b[0m \u001b[0;31m# Create the problem instance with integration method\u001b[0m\u001b[0;34m\u001b[0m\u001b[0;34m\u001b[0m\u001b[0m\n\u001b[1;32m      2\u001b[0m \u001b[0mmc_integration\u001b[0m \u001b[0;34m=\u001b[0m \u001b[0mpyblp\u001b[0m\u001b[0;34m.\u001b[0m\u001b[0mIntegration\u001b[0m\u001b[0;34m(\u001b[0m\u001b[0;34m'monte_carlo'\u001b[0m\u001b[0;34m,\u001b[0m \u001b[0msize\u001b[0m\u001b[0;34m=\u001b[0m\u001b[0;36m200\u001b[0m\u001b[0;34m,\u001b[0m \u001b[0mspecification_options\u001b[0m\u001b[0;34m=\u001b[0m\u001b[0;34m{\u001b[0m\u001b[0;34m'seed'\u001b[0m\u001b[0;34m:\u001b[0m \u001b[0;36m0\u001b[0m\u001b[0;34m}\u001b[0m\u001b[0;34m)\u001b[0m\u001b[0;34m\u001b[0m\u001b[0;34m\u001b[0m\u001b[0m\n\u001b[0;32m----> 3\u001b[0;31m \u001b[0mproblem\u001b[0m \u001b[0;34m=\u001b[0m \u001b[0mpyblp\u001b[0m\u001b[0;34m.\u001b[0m\u001b[0mProblem\u001b[0m\u001b[0;34m(\u001b[0m\u001b[0mproduct_formulations\u001b[0m\u001b[0;34m,\u001b[0m \u001b[0mmarket_data\u001b[0m\u001b[0;34m,\u001b[0m \u001b[0mproduct_data_blp\u001b[0m\u001b[0;34m,\u001b[0m \u001b[0mintegration\u001b[0m\u001b[0;34m=\u001b[0m\u001b[0mmc_integration\u001b[0m\u001b[0;34m)\u001b[0m\u001b[0;34m\u001b[0m\u001b[0;34m\u001b[0m\u001b[0m\n\u001b[0m\u001b[1;32m      4\u001b[0m \u001b[0;34m\u001b[0m\u001b[0m\n\u001b[1;32m      5\u001b[0m \u001b[0;31m# Define initial values\u001b[0m\u001b[0;34m\u001b[0m\u001b[0;34m\u001b[0m\u001b[0m\n",
            "\u001b[0;32m/usr/local/lib/python3.10/dist-packages/pyblp/economies/problem.py\u001b[0m in \u001b[0;36m__init__\u001b[0;34m(self, product_formulations, product_data, agent_formulation, agent_data, integration, rc_types, epsilon_scale, costs_type, add_exogenous)\u001b[0m\n\u001b[1;32m   1611\u001b[0m \u001b[0;34m\u001b[0m\u001b[0m\n\u001b[1;32m   1612\u001b[0m         \u001b[0;31m# initialize the underlying economy with structured product and agent data\u001b[0m\u001b[0;34m\u001b[0m\u001b[0;34m\u001b[0m\u001b[0m\n\u001b[0;32m-> 1613\u001b[0;31m         \u001b[0mproducts\u001b[0m \u001b[0;34m=\u001b[0m \u001b[0mProducts\u001b[0m\u001b[0;34m(\u001b[0m\u001b[0mproduct_formulations\u001b[0m\u001b[0;34m,\u001b[0m \u001b[0mproduct_data\u001b[0m\u001b[0;34m,\u001b[0m \u001b[0madd_exogenous\u001b[0m\u001b[0;34m=\u001b[0m\u001b[0madd_exogenous\u001b[0m\u001b[0;34m)\u001b[0m\u001b[0;34m\u001b[0m\u001b[0;34m\u001b[0m\u001b[0m\n\u001b[0m\u001b[1;32m   1614\u001b[0m         \u001b[0magents\u001b[0m \u001b[0;34m=\u001b[0m \u001b[0mAgents\u001b[0m\u001b[0;34m(\u001b[0m\u001b[0mproducts\u001b[0m\u001b[0;34m,\u001b[0m \u001b[0magent_formulation\u001b[0m\u001b[0;34m,\u001b[0m \u001b[0magent_data\u001b[0m\u001b[0;34m,\u001b[0m \u001b[0mintegration\u001b[0m\u001b[0;34m)\u001b[0m\u001b[0;34m\u001b[0m\u001b[0;34m\u001b[0m\u001b[0m\n\u001b[1;32m   1615\u001b[0m         \u001b[0msuper\u001b[0m\u001b[0;34m(\u001b[0m\u001b[0;34m)\u001b[0m\u001b[0;34m.\u001b[0m\u001b[0m__init__\u001b[0m\u001b[0;34m(\u001b[0m\u001b[0mproduct_formulations\u001b[0m\u001b[0;34m,\u001b[0m \u001b[0magent_formulation\u001b[0m\u001b[0;34m,\u001b[0m \u001b[0mproducts\u001b[0m\u001b[0;34m,\u001b[0m \u001b[0magents\u001b[0m\u001b[0;34m,\u001b[0m \u001b[0mrc_types\u001b[0m\u001b[0;34m,\u001b[0m \u001b[0mepsilon_scale\u001b[0m\u001b[0;34m,\u001b[0m \u001b[0mcosts_type\u001b[0m\u001b[0;34m)\u001b[0m\u001b[0;34m\u001b[0m\u001b[0;34m\u001b[0m\u001b[0m\n",
            "\u001b[0;32m/usr/local/lib/python3.10/dist-packages/pyblp/primitives.py\u001b[0m in \u001b[0;36m__new__\u001b[0;34m(cls, product_formulations, product_data, instruments, add_exogenous)\u001b[0m\n\u001b[1;32m     94\u001b[0m \u001b[0;34m\u001b[0m\u001b[0m\n\u001b[1;32m     95\u001b[0m         \u001b[0;31m# build X1\u001b[0m\u001b[0;34m\u001b[0m\u001b[0;34m\u001b[0m\u001b[0m\n\u001b[0;32m---> 96\u001b[0;31m         \u001b[0mX1\u001b[0m\u001b[0;34m,\u001b[0m \u001b[0mX1_formulations\u001b[0m\u001b[0;34m,\u001b[0m \u001b[0mX1_data\u001b[0m \u001b[0;34m=\u001b[0m \u001b[0mproduct_formulations\u001b[0m\u001b[0;34m[\u001b[0m\u001b[0;36m0\u001b[0m\u001b[0;34m]\u001b[0m\u001b[0;34m.\u001b[0m\u001b[0m_build_matrix\u001b[0m\u001b[0;34m(\u001b[0m\u001b[0mproduct_data\u001b[0m\u001b[0;34m)\u001b[0m\u001b[0;34m\u001b[0m\u001b[0;34m\u001b[0m\u001b[0m\n\u001b[0m\u001b[1;32m     97\u001b[0m         \u001b[0;32mif\u001b[0m \u001b[0;34m'shares'\u001b[0m \u001b[0;32min\u001b[0m \u001b[0mX1_data\u001b[0m\u001b[0;34m:\u001b[0m\u001b[0;34m\u001b[0m\u001b[0;34m\u001b[0m\u001b[0m\n\u001b[1;32m     98\u001b[0m             \u001b[0;32mraise\u001b[0m \u001b[0mNameError\u001b[0m\u001b[0;34m(\u001b[0m\u001b[0;34m\"shares cannot be included in the formulation for X1.\"\u001b[0m\u001b[0;34m)\u001b[0m\u001b[0;34m\u001b[0m\u001b[0;34m\u001b[0m\u001b[0m\n",
            "\u001b[0;32m/usr/local/lib/python3.10/dist-packages/pyblp/configurations/formulation.py\u001b[0m in \u001b[0;36m_build_matrix\u001b[0;34m(self, data, fallback_index, ignore_na)\u001b[0m\n\u001b[1;32m    192\u001b[0m                     \u001b[0morigin\u001b[0m \u001b[0;34m=\u001b[0m \u001b[0mpatsy\u001b[0m\u001b[0;34m.\u001b[0m\u001b[0morigin\u001b[0m\u001b[0;34m.\u001b[0m\u001b[0mOrigin\u001b[0m\u001b[0;34m(\u001b[0m\u001b[0mself\u001b[0m\u001b[0;34m.\u001b[0m\u001b[0m_formula\u001b[0m\u001b[0;34m,\u001b[0m \u001b[0;36m0\u001b[0m\u001b[0;34m,\u001b[0m \u001b[0mlen\u001b[0m\u001b[0;34m(\u001b[0m\u001b[0mself\u001b[0m\u001b[0;34m.\u001b[0m\u001b[0m_formula\u001b[0m\u001b[0;34m)\u001b[0m\u001b[0;34m)\u001b[0m\u001b[0;34m\u001b[0m\u001b[0;34m\u001b[0m\u001b[0m\n\u001b[1;32m    193\u001b[0m                     \u001b[0mmessage\u001b[0m \u001b[0;34m=\u001b[0m \u001b[0;34mf\"Failed to load data for '{name}' because of the above exception.\"\u001b[0m\u001b[0;34m\u001b[0m\u001b[0;34m\u001b[0m\u001b[0m\n\u001b[0;32m--> 194\u001b[0;31m                     \u001b[0;32mraise\u001b[0m \u001b[0mpatsy\u001b[0m\u001b[0;34m.\u001b[0m\u001b[0mPatsyError\u001b[0m\u001b[0;34m(\u001b[0m\u001b[0mmessage\u001b[0m\u001b[0;34m,\u001b[0m \u001b[0morigin\u001b[0m\u001b[0;34m)\u001b[0m \u001b[0;32mfrom\u001b[0m \u001b[0mexception\u001b[0m\u001b[0;34m\u001b[0m\u001b[0;34m\u001b[0m\u001b[0m\n\u001b[0m\u001b[1;32m    195\u001b[0m \u001b[0;34m\u001b[0m\u001b[0m\n\u001b[1;32m    196\u001b[0m         \u001b[0;31m# always have at least one column to represent the size of the data\u001b[0m\u001b[0;34m\u001b[0m\u001b[0;34m\u001b[0m\u001b[0m\n",
            "\u001b[0;31mPatsyError\u001b[0m: Failed to load data for 'msrp_usd' because of the above exception.\n    1 + msrp_usd + horsepower + fuel_economy_combined + air_suspension_dummy + panoramic_sunroof_dummy\n    ^^^^^^^^^^^^^^^^^^^^^^^^^^^^^^^^^^^^^^^^^^^^^^^^^^^^^^^^^^^^^^^^^^^^^^^^^^^^^^^^^^^^^^^^^^^^^^^^^^"
          ]
        }
      ]
    },
    {
      "cell_type": "code",
      "source": [
        "# Print Column Names: Ensure that 'all' are present in product_data_blp.\n",
        "print(product_data_blp.columns)"
      ],
      "metadata": {
        "colab": {
          "base_uri": "https://localhost:8080/",
          "height": 0
        },
        "id": "A3GmDW4BG_pz",
        "outputId": "fff01149-5c3d-405d-fe6f-e4b33249cdba"
      },
      "execution_count": 22,
      "outputs": [
        {
          "output_type": "stream",
          "name": "stdout",
          "text": [
            "Index(['msrp_usd', 'horsepower', 'fuel_economy_combined', 'awd_dummy',\n",
            "       'air_suspension_dummy', 'panoramic_sunroof_dummy'],\n",
            "      dtype='object')\n"
          ]
        }
      ]
    }
  ],
  "metadata": {
    "colab": {
      "provenance": []
    },
    "kernelspec": {
      "display_name": "Python 3",
      "name": "python3"
    },
    "language_info": {
      "codemirror_mode": {
        "name": "ipython",
        "version": 3
      },
      "file_extension": ".py",
      "mimetype": "text/x-python",
      "name": "python",
      "nbconvert_exporter": "python",
      "pygments_lexer": "ipython3",
      "version": "3.12.4"
    }
  },
  "nbformat": 4,
  "nbformat_minor": 0
}